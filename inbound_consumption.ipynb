{
 "cells": [
  {
   "cell_type": "markdown",
   "id": "460703fe",
   "metadata": {},
   "source": [
    "## 2024年 訪日外客の消費単価　地域別データの可視化\n",
    "\n",
    "## データについて\n",
    "利用するデータのファイルは２種類\n",
    "1. foreign_visitors_2024.csv: 訪日外客数\n",
    "1. inbound_consumption_2024.csv: 消費単価\n",
    "\n",
    "### 訪日外客数\n",
    "* 出典：日本政府観光局「JNTO日本の観光統計データ」国籍/目的別 訪日外客数（2004年～2024年）（PDF）\n",
    "* URL: https://www.jnto.go.jp/statistics/data/visitors-statistics/\n",
    "* JNTOから外客数データを取得　時系列推移表　国籍/月別 訪日外客数（2004年～2024年）（PDF）からファイルを取得。2024年の観光客などの人数を抽出・加工しました。\n",
    "\n",
    "\n",
    "### 消費単価\n",
    "* 出典：「インバウンド消費動向調査（旧 訪日外国人消費動向調査）」（観光庁）\n",
    "* 「インバウンド消費動向調査（旧 訪日外国人消費動向調査）『2024年年間集計表』」（観光庁）(https://www.mlit.go.jp/kankocho/tokei_hakusyo/gaikokujinshohidoko.html)から抜粋\n",
    "* 「居住地（21区分）別　費目別購入率および購入者単価」を加工して作成\n",
    "\n",
    "### 国・地域コード\n",
    "* ISO3コードを利用する。\n",
    "* [wiki iso3-code](https://ja.wikipedia.org/wiki/ISO_3166-1)を参考に国・地域名に対応するコードを追記してあります。"
   ]
  },
  {
   "cell_type": "code",
   "execution_count": 1,
   "id": "07184be6",
   "metadata": {},
   "outputs": [],
   "source": [
    "import plotly.express as px\n",
    "import pandas as pd"
   ]
  },
  {
   "cell_type": "code",
   "execution_count": 2,
   "id": "e2e9159c",
   "metadata": {},
   "outputs": [
    {
     "data": {
      "text/html": [
       "<div>\n",
       "<style scoped>\n",
       "    .dataframe tbody tr th:only-of-type {\n",
       "        vertical-align: middle;\n",
       "    }\n",
       "\n",
       "    .dataframe tbody tr th {\n",
       "        vertical-align: top;\n",
       "    }\n",
       "\n",
       "    .dataframe thead th {\n",
       "        text-align: right;\n",
       "    }\n",
       "</style>\n",
       "<table border=\"1\" class=\"dataframe\">\n",
       "  <thead>\n",
       "    <tr style=\"text-align: right;\">\n",
       "      <th></th>\n",
       "      <th>地域</th>\n",
       "      <th>コード</th>\n",
       "      <th>人数</th>\n",
       "      <th>消費単価</th>\n",
       "    </tr>\n",
       "  </thead>\n",
       "  <tbody>\n",
       "    <tr>\n",
       "      <th>0</th>\n",
       "      <td>韓国</td>\n",
       "      <td>KOR</td>\n",
       "      <td>3529</td>\n",
       "      <td>98385.2324</td>\n",
       "    </tr>\n",
       "    <tr>\n",
       "      <th>1</th>\n",
       "      <td>台湾</td>\n",
       "      <td>TWN</td>\n",
       "      <td>2898</td>\n",
       "      <td>154042.4972</td>\n",
       "    </tr>\n",
       "    <tr>\n",
       "      <th>2</th>\n",
       "      <td>香港</td>\n",
       "      <td>HKG</td>\n",
       "      <td>2835</td>\n",
       "      <td>230987.6834</td>\n",
       "    </tr>\n",
       "    <tr>\n",
       "      <th>3</th>\n",
       "      <td>中国</td>\n",
       "      <td>CHN</td>\n",
       "      <td>4326</td>\n",
       "      <td>256701.8395</td>\n",
       "    </tr>\n",
       "    <tr>\n",
       "      <th>4</th>\n",
       "      <td>タイ</td>\n",
       "      <td>THA</td>\n",
       "      <td>1374</td>\n",
       "      <td>174018.8578</td>\n",
       "    </tr>\n",
       "    <tr>\n",
       "      <th>5</th>\n",
       "      <td>シンガポール</td>\n",
       "      <td>SGP</td>\n",
       "      <td>677</td>\n",
       "      <td>280167.2053</td>\n",
       "    </tr>\n",
       "    <tr>\n",
       "      <th>6</th>\n",
       "      <td>マレーシア</td>\n",
       "      <td>MYS</td>\n",
       "      <td>1452</td>\n",
       "      <td>182498.6922</td>\n",
       "    </tr>\n",
       "    <tr>\n",
       "      <th>7</th>\n",
       "      <td>インドネシア</td>\n",
       "      <td>IDN</td>\n",
       "      <td>890</td>\n",
       "      <td>190815.9443</td>\n",
       "    </tr>\n",
       "    <tr>\n",
       "      <th>8</th>\n",
       "      <td>フィリピン</td>\n",
       "      <td>PHL</td>\n",
       "      <td>981</td>\n",
       "      <td>156029.0050</td>\n",
       "    </tr>\n",
       "    <tr>\n",
       "      <th>9</th>\n",
       "      <td>ベトナム</td>\n",
       "      <td>VNM</td>\n",
       "      <td>1426</td>\n",
       "      <td>187013.9071</td>\n",
       "    </tr>\n",
       "    <tr>\n",
       "      <th>10</th>\n",
       "      <td>インド</td>\n",
       "      <td>IND</td>\n",
       "      <td>1000</td>\n",
       "      <td>219079.5975</td>\n",
       "    </tr>\n",
       "    <tr>\n",
       "      <th>11</th>\n",
       "      <td>英国</td>\n",
       "      <td>GBR</td>\n",
       "      <td>771</td>\n",
       "      <td>320651.5608</td>\n",
       "    </tr>\n",
       "    <tr>\n",
       "      <th>12</th>\n",
       "      <td>ドイツ</td>\n",
       "      <td>DEU</td>\n",
       "      <td>1201</td>\n",
       "      <td>304962.1869</td>\n",
       "    </tr>\n",
       "    <tr>\n",
       "      <th>13</th>\n",
       "      <td>フランス</td>\n",
       "      <td>FRA</td>\n",
       "      <td>582</td>\n",
       "      <td>324460.5854</td>\n",
       "    </tr>\n",
       "    <tr>\n",
       "      <th>14</th>\n",
       "      <td>イタリア</td>\n",
       "      <td>ITA</td>\n",
       "      <td>348</td>\n",
       "      <td>264157.2943</td>\n",
       "    </tr>\n",
       "    <tr>\n",
       "      <th>15</th>\n",
       "      <td>スペイン</td>\n",
       "      <td>ESP</td>\n",
       "      <td>297</td>\n",
       "      <td>294626.7579</td>\n",
       "    </tr>\n",
       "    <tr>\n",
       "      <th>16</th>\n",
       "      <td>ロシア</td>\n",
       "      <td>RUS</td>\n",
       "      <td>150</td>\n",
       "      <td>307111.9789</td>\n",
       "    </tr>\n",
       "    <tr>\n",
       "      <th>17</th>\n",
       "      <td>米国</td>\n",
       "      <td>USA</td>\n",
       "      <td>5341</td>\n",
       "      <td>305574.8122</td>\n",
       "    </tr>\n",
       "    <tr>\n",
       "      <th>18</th>\n",
       "      <td>カナダ</td>\n",
       "      <td>CAN</td>\n",
       "      <td>925</td>\n",
       "      <td>289223.0567</td>\n",
       "    </tr>\n",
       "    <tr>\n",
       "      <th>19</th>\n",
       "      <td>オーストラリア</td>\n",
       "      <td>AUS</td>\n",
       "      <td>1099</td>\n",
       "      <td>319949.4033</td>\n",
       "    </tr>\n",
       "  </tbody>\n",
       "</table>\n",
       "</div>"
      ],
      "text/plain": [
       "         地域  コード    人数         消費単価\n",
       "0        韓国  KOR  3529   98385.2324\n",
       "1        台湾  TWN  2898  154042.4972\n",
       "2        香港  HKG  2835  230987.6834\n",
       "3        中国  CHN  4326  256701.8395\n",
       "4        タイ  THA  1374  174018.8578\n",
       "5    シンガポール  SGP   677  280167.2053\n",
       "6     マレーシア  MYS  1452  182498.6922\n",
       "7    インドネシア  IDN   890  190815.9443\n",
       "8     フィリピン  PHL   981  156029.0050\n",
       "9      ベトナム  VNM  1426  187013.9071\n",
       "10      インド  IND  1000  219079.5975\n",
       "11       英国  GBR   771  320651.5608\n",
       "12      ドイツ  DEU  1201  304962.1869\n",
       "13     フランス  FRA   582  324460.5854\n",
       "14     イタリア  ITA   348  264157.2943\n",
       "15     スペイン  ESP   297  294626.7579\n",
       "16      ロシア  RUS   150  307111.9789\n",
       "17       米国  USA  5341  305574.8122\n",
       "18      カナダ  CAN   925  289223.0567\n",
       "19  オーストラリア  AUS  1099  319949.4033"
      ]
     },
     "execution_count": 2,
     "metadata": {},
     "output_type": "execute_result"
    }
   ],
   "source": [
    "df = pd.read_csv(\"./data/inbound_consumption_2024.csv\")\n",
    "df = df.dropna()   # その他の行を削除\n",
    "df"
   ]
  },
  {
   "cell_type": "markdown",
   "id": "0b97029a",
   "metadata": {},
   "source": [
    "### コロプレスマップ \n",
    "* 国・地域コードを利用して訪日観光客の居住地を塗り分ける\n",
    "* データセットのコード列で塗り分け\n",
    "* 人数列をrange_colorの幅でグラデーション\n",
    "* natural earth図を利用"
   ]
  },
  {
   "cell_type": "code",
   "execution_count": 3,
   "id": "aedbc643",
   "metadata": {},
   "outputs": [
    {
     "data": {
      "application/vnd.plotly.v1+json": {
       "config": {
        "plotlyServerURL": "https://plot.ly"
       },
       "data": [
        {
         "coloraxis": "coloraxis",
         "customdata": [
          [
           98385.2324,
           "KOR"
          ],
          [
           154042.4972,
           "TWN"
          ],
          [
           230987.6834,
           "HKG"
          ],
          [
           256701.8395,
           "CHN"
          ],
          [
           174018.8578,
           "THA"
          ],
          [
           280167.2053,
           "SGP"
          ],
          [
           182498.6922,
           "MYS"
          ],
          [
           190815.9443,
           "IDN"
          ],
          [
           156029.005,
           "PHL"
          ],
          [
           187013.9071,
           "VNM"
          ],
          [
           219079.5975,
           "IND"
          ],
          [
           320651.5608,
           "GBR"
          ],
          [
           304962.1869,
           "DEU"
          ],
          [
           324460.5854,
           "FRA"
          ],
          [
           264157.2943,
           "ITA"
          ],
          [
           294626.7579,
           "ESP"
          ],
          [
           307111.9789,
           "RUS"
          ],
          [
           305574.8122,
           "USA"
          ],
          [
           289223.0567,
           "CAN"
          ],
          [
           319949.4033,
           "AUS"
          ]
         ],
         "geo": "geo",
         "hovertemplate": "<b>%{hovertext}</b><br><br>消費単価=%{z:,}<extra></extra>",
         "hovertext": [
          "韓国",
          "台湾",
          "香港",
          "中国",
          "タイ",
          "シンガポール",
          "マレーシア",
          "インドネシア",
          "フィリピン",
          "ベトナム",
          "インド",
          "英国",
          "ドイツ",
          "フランス",
          "イタリア",
          "スペイン",
          "ロシア",
          "米国",
          "カナダ",
          "オーストラリア"
         ],
         "locations": [
          "KOR",
          "TWN",
          "HKG",
          "CHN",
          "THA",
          "SGP",
          "MYS",
          "IDN",
          "PHL",
          "VNM",
          "IND",
          "GBR",
          "DEU",
          "FRA",
          "ITA",
          "ESP",
          "RUS",
          "USA",
          "CAN",
          "AUS"
         ],
         "name": "",
         "type": "choropleth",
         "z": {
          "bdata": "+Q/ptxMF+EBd/kP6080CQVFrmnddMgxBqMZLt+5VD0EUP8bcFj4FQccpOtKcGRFBUiegiRVHBkGNKO2N/0oHQaRwPQroCwNBEqW9QS/UBkF7FK7HPL4KQe5aQj4ukhNBrrZivwidEkH8GHNXss0TQa36XC11HxBBB/AWCIv7EUH4wmTqn74SQVdbsT+bphJBl5APOhynEUHarPqcNYcTQQ==",
          "dtype": "f8"
         }
        }
       ],
       "layout": {
        "coloraxis": {
         "cmax": 356906.64394,
         "cmin": 88546.70916,
         "colorbar": {
          "tickformat": ",.0f",
          "title": {
           "text": "消費単価（円）"
          }
         },
         "colorscale": [
          [
           0,
           "rgb(150,0,90)"
          ],
          [
           0.125,
           "rgb(0,0,200)"
          ],
          [
           0.25,
           "rgb(0,25,255)"
          ],
          [
           0.375,
           "rgb(0,152,255)"
          ],
          [
           0.5,
           "rgb(44,255,150)"
          ],
          [
           0.625,
           "rgb(151,255,0)"
          ],
          [
           0.75,
           "rgb(255,234,0)"
          ],
          [
           0.875,
           "rgb(255,111,0)"
          ],
          [
           1,
           "rgb(255,0,0)"
          ]
         ]
        },
        "dragmode": false,
        "geo": {
         "center": {},
         "countrycolor": "lightgray",
         "countrywidth": 0.3,
         "domain": {
          "x": [
           0,
           1
          ],
          "y": [
           0,
           1
          ]
         },
         "landcolor": "rgba(255, 255, 255, 0.1)",
         "projection": {
          "rotation": {
           "lat": 0,
           "lon": 148
          },
          "type": "natural earth"
         },
         "showcountries": true
        },
        "height": 550,
        "legend": {
         "tracegroupgap": 0
        },
        "margin": {
         "t": 60
        },
        "template": {
         "data": {
          "bar": [
           {
            "error_x": {
             "color": "#2a3f5f"
            },
            "error_y": {
             "color": "#2a3f5f"
            },
            "marker": {
             "line": {
              "color": "#E5ECF6",
              "width": 0.5
             },
             "pattern": {
              "fillmode": "overlay",
              "size": 10,
              "solidity": 0.2
             }
            },
            "type": "bar"
           }
          ],
          "barpolar": [
           {
            "marker": {
             "line": {
              "color": "#E5ECF6",
              "width": 0.5
             },
             "pattern": {
              "fillmode": "overlay",
              "size": 10,
              "solidity": 0.2
             }
            },
            "type": "barpolar"
           }
          ],
          "carpet": [
           {
            "aaxis": {
             "endlinecolor": "#2a3f5f",
             "gridcolor": "white",
             "linecolor": "white",
             "minorgridcolor": "white",
             "startlinecolor": "#2a3f5f"
            },
            "baxis": {
             "endlinecolor": "#2a3f5f",
             "gridcolor": "white",
             "linecolor": "white",
             "minorgridcolor": "white",
             "startlinecolor": "#2a3f5f"
            },
            "type": "carpet"
           }
          ],
          "choropleth": [
           {
            "colorbar": {
             "outlinewidth": 0,
             "ticks": ""
            },
            "type": "choropleth"
           }
          ],
          "contour": [
           {
            "colorbar": {
             "outlinewidth": 0,
             "ticks": ""
            },
            "colorscale": [
             [
              0,
              "#0d0887"
             ],
             [
              0.1111111111111111,
              "#46039f"
             ],
             [
              0.2222222222222222,
              "#7201a8"
             ],
             [
              0.3333333333333333,
              "#9c179e"
             ],
             [
              0.4444444444444444,
              "#bd3786"
             ],
             [
              0.5555555555555556,
              "#d8576b"
             ],
             [
              0.6666666666666666,
              "#ed7953"
             ],
             [
              0.7777777777777778,
              "#fb9f3a"
             ],
             [
              0.8888888888888888,
              "#fdca26"
             ],
             [
              1,
              "#f0f921"
             ]
            ],
            "type": "contour"
           }
          ],
          "contourcarpet": [
           {
            "colorbar": {
             "outlinewidth": 0,
             "ticks": ""
            },
            "type": "contourcarpet"
           }
          ],
          "heatmap": [
           {
            "colorbar": {
             "outlinewidth": 0,
             "ticks": ""
            },
            "colorscale": [
             [
              0,
              "#0d0887"
             ],
             [
              0.1111111111111111,
              "#46039f"
             ],
             [
              0.2222222222222222,
              "#7201a8"
             ],
             [
              0.3333333333333333,
              "#9c179e"
             ],
             [
              0.4444444444444444,
              "#bd3786"
             ],
             [
              0.5555555555555556,
              "#d8576b"
             ],
             [
              0.6666666666666666,
              "#ed7953"
             ],
             [
              0.7777777777777778,
              "#fb9f3a"
             ],
             [
              0.8888888888888888,
              "#fdca26"
             ],
             [
              1,
              "#f0f921"
             ]
            ],
            "type": "heatmap"
           }
          ],
          "histogram": [
           {
            "marker": {
             "pattern": {
              "fillmode": "overlay",
              "size": 10,
              "solidity": 0.2
             }
            },
            "type": "histogram"
           }
          ],
          "histogram2d": [
           {
            "colorbar": {
             "outlinewidth": 0,
             "ticks": ""
            },
            "colorscale": [
             [
              0,
              "#0d0887"
             ],
             [
              0.1111111111111111,
              "#46039f"
             ],
             [
              0.2222222222222222,
              "#7201a8"
             ],
             [
              0.3333333333333333,
              "#9c179e"
             ],
             [
              0.4444444444444444,
              "#bd3786"
             ],
             [
              0.5555555555555556,
              "#d8576b"
             ],
             [
              0.6666666666666666,
              "#ed7953"
             ],
             [
              0.7777777777777778,
              "#fb9f3a"
             ],
             [
              0.8888888888888888,
              "#fdca26"
             ],
             [
              1,
              "#f0f921"
             ]
            ],
            "type": "histogram2d"
           }
          ],
          "histogram2dcontour": [
           {
            "colorbar": {
             "outlinewidth": 0,
             "ticks": ""
            },
            "colorscale": [
             [
              0,
              "#0d0887"
             ],
             [
              0.1111111111111111,
              "#46039f"
             ],
             [
              0.2222222222222222,
              "#7201a8"
             ],
             [
              0.3333333333333333,
              "#9c179e"
             ],
             [
              0.4444444444444444,
              "#bd3786"
             ],
             [
              0.5555555555555556,
              "#d8576b"
             ],
             [
              0.6666666666666666,
              "#ed7953"
             ],
             [
              0.7777777777777778,
              "#fb9f3a"
             ],
             [
              0.8888888888888888,
              "#fdca26"
             ],
             [
              1,
              "#f0f921"
             ]
            ],
            "type": "histogram2dcontour"
           }
          ],
          "mesh3d": [
           {
            "colorbar": {
             "outlinewidth": 0,
             "ticks": ""
            },
            "type": "mesh3d"
           }
          ],
          "parcoords": [
           {
            "line": {
             "colorbar": {
              "outlinewidth": 0,
              "ticks": ""
             }
            },
            "type": "parcoords"
           }
          ],
          "pie": [
           {
            "automargin": true,
            "type": "pie"
           }
          ],
          "scatter": [
           {
            "fillpattern": {
             "fillmode": "overlay",
             "size": 10,
             "solidity": 0.2
            },
            "type": "scatter"
           }
          ],
          "scatter3d": [
           {
            "line": {
             "colorbar": {
              "outlinewidth": 0,
              "ticks": ""
             }
            },
            "marker": {
             "colorbar": {
              "outlinewidth": 0,
              "ticks": ""
             }
            },
            "type": "scatter3d"
           }
          ],
          "scattercarpet": [
           {
            "marker": {
             "colorbar": {
              "outlinewidth": 0,
              "ticks": ""
             }
            },
            "type": "scattercarpet"
           }
          ],
          "scattergeo": [
           {
            "marker": {
             "colorbar": {
              "outlinewidth": 0,
              "ticks": ""
             }
            },
            "type": "scattergeo"
           }
          ],
          "scattergl": [
           {
            "marker": {
             "colorbar": {
              "outlinewidth": 0,
              "ticks": ""
             }
            },
            "type": "scattergl"
           }
          ],
          "scattermap": [
           {
            "marker": {
             "colorbar": {
              "outlinewidth": 0,
              "ticks": ""
             }
            },
            "type": "scattermap"
           }
          ],
          "scattermapbox": [
           {
            "marker": {
             "colorbar": {
              "outlinewidth": 0,
              "ticks": ""
             }
            },
            "type": "scattermapbox"
           }
          ],
          "scatterpolar": [
           {
            "marker": {
             "colorbar": {
              "outlinewidth": 0,
              "ticks": ""
             }
            },
            "type": "scatterpolar"
           }
          ],
          "scatterpolargl": [
           {
            "marker": {
             "colorbar": {
              "outlinewidth": 0,
              "ticks": ""
             }
            },
            "type": "scatterpolargl"
           }
          ],
          "scatterternary": [
           {
            "marker": {
             "colorbar": {
              "outlinewidth": 0,
              "ticks": ""
             }
            },
            "type": "scatterternary"
           }
          ],
          "surface": [
           {
            "colorbar": {
             "outlinewidth": 0,
             "ticks": ""
            },
            "colorscale": [
             [
              0,
              "#0d0887"
             ],
             [
              0.1111111111111111,
              "#46039f"
             ],
             [
              0.2222222222222222,
              "#7201a8"
             ],
             [
              0.3333333333333333,
              "#9c179e"
             ],
             [
              0.4444444444444444,
              "#bd3786"
             ],
             [
              0.5555555555555556,
              "#d8576b"
             ],
             [
              0.6666666666666666,
              "#ed7953"
             ],
             [
              0.7777777777777778,
              "#fb9f3a"
             ],
             [
              0.8888888888888888,
              "#fdca26"
             ],
             [
              1,
              "#f0f921"
             ]
            ],
            "type": "surface"
           }
          ],
          "table": [
           {
            "cells": {
             "fill": {
              "color": "#EBF0F8"
             },
             "line": {
              "color": "white"
             }
            },
            "header": {
             "fill": {
              "color": "#C8D4E3"
             },
             "line": {
              "color": "white"
             }
            },
            "type": "table"
           }
          ]
         },
         "layout": {
          "annotationdefaults": {
           "arrowcolor": "#2a3f5f",
           "arrowhead": 0,
           "arrowwidth": 1
          },
          "autotypenumbers": "strict",
          "coloraxis": {
           "colorbar": {
            "outlinewidth": 0,
            "ticks": ""
           }
          },
          "colorscale": {
           "diverging": [
            [
             0,
             "#8e0152"
            ],
            [
             0.1,
             "#c51b7d"
            ],
            [
             0.2,
             "#de77ae"
            ],
            [
             0.3,
             "#f1b6da"
            ],
            [
             0.4,
             "#fde0ef"
            ],
            [
             0.5,
             "#f7f7f7"
            ],
            [
             0.6,
             "#e6f5d0"
            ],
            [
             0.7,
             "#b8e186"
            ],
            [
             0.8,
             "#7fbc41"
            ],
            [
             0.9,
             "#4d9221"
            ],
            [
             1,
             "#276419"
            ]
           ],
           "sequential": [
            [
             0,
             "#0d0887"
            ],
            [
             0.1111111111111111,
             "#46039f"
            ],
            [
             0.2222222222222222,
             "#7201a8"
            ],
            [
             0.3333333333333333,
             "#9c179e"
            ],
            [
             0.4444444444444444,
             "#bd3786"
            ],
            [
             0.5555555555555556,
             "#d8576b"
            ],
            [
             0.6666666666666666,
             "#ed7953"
            ],
            [
             0.7777777777777778,
             "#fb9f3a"
            ],
            [
             0.8888888888888888,
             "#fdca26"
            ],
            [
             1,
             "#f0f921"
            ]
           ],
           "sequentialminus": [
            [
             0,
             "#0d0887"
            ],
            [
             0.1111111111111111,
             "#46039f"
            ],
            [
             0.2222222222222222,
             "#7201a8"
            ],
            [
             0.3333333333333333,
             "#9c179e"
            ],
            [
             0.4444444444444444,
             "#bd3786"
            ],
            [
             0.5555555555555556,
             "#d8576b"
            ],
            [
             0.6666666666666666,
             "#ed7953"
            ],
            [
             0.7777777777777778,
             "#fb9f3a"
            ],
            [
             0.8888888888888888,
             "#fdca26"
            ],
            [
             1,
             "#f0f921"
            ]
           ]
          },
          "colorway": [
           "#636efa",
           "#EF553B",
           "#00cc96",
           "#ab63fa",
           "#FFA15A",
           "#19d3f3",
           "#FF6692",
           "#B6E880",
           "#FF97FF",
           "#FECB52"
          ],
          "font": {
           "color": "#2a3f5f"
          },
          "geo": {
           "bgcolor": "white",
           "lakecolor": "white",
           "landcolor": "#E5ECF6",
           "showlakes": true,
           "showland": true,
           "subunitcolor": "white"
          },
          "hoverlabel": {
           "align": "left"
          },
          "hovermode": "closest",
          "mapbox": {
           "style": "light"
          },
          "paper_bgcolor": "white",
          "plot_bgcolor": "#E5ECF6",
          "polar": {
           "angularaxis": {
            "gridcolor": "white",
            "linecolor": "white",
            "ticks": ""
           },
           "bgcolor": "#E5ECF6",
           "radialaxis": {
            "gridcolor": "white",
            "linecolor": "white",
            "ticks": ""
           }
          },
          "scene": {
           "xaxis": {
            "backgroundcolor": "#E5ECF6",
            "gridcolor": "white",
            "gridwidth": 2,
            "linecolor": "white",
            "showbackground": true,
            "ticks": "",
            "zerolinecolor": "white"
           },
           "yaxis": {
            "backgroundcolor": "#E5ECF6",
            "gridcolor": "white",
            "gridwidth": 2,
            "linecolor": "white",
            "showbackground": true,
            "ticks": "",
            "zerolinecolor": "white"
           },
           "zaxis": {
            "backgroundcolor": "#E5ECF6",
            "gridcolor": "white",
            "gridwidth": 2,
            "linecolor": "white",
            "showbackground": true,
            "ticks": "",
            "zerolinecolor": "white"
           }
          },
          "shapedefaults": {
           "line": {
            "color": "#2a3f5f"
           }
          },
          "ternary": {
           "aaxis": {
            "gridcolor": "white",
            "linecolor": "white",
            "ticks": ""
           },
           "baxis": {
            "gridcolor": "white",
            "linecolor": "white",
            "ticks": ""
           },
           "bgcolor": "#E5ECF6",
           "caxis": {
            "gridcolor": "white",
            "linecolor": "white",
            "ticks": ""
           }
          },
          "title": {
           "x": 0.05
          },
          "xaxis": {
           "automargin": true,
           "gridcolor": "white",
           "linecolor": "white",
           "ticks": "",
           "title": {
            "standoff": 15
           },
           "zerolinecolor": "white",
           "zerolinewidth": 2
          },
          "yaxis": {
           "automargin": true,
           "gridcolor": "white",
           "linecolor": "white",
           "ticks": "",
           "title": {
            "standoff": 15
           },
           "zerolinecolor": "white",
           "zerolinewidth": 2
          }
         }
        },
        "title": {
         "text": "2024年　訪日観光客の消費単価"
        },
        "width": 800
       }
      }
     },
     "metadata": {},
     "output_type": "display_data"
    }
   ],
   "source": [
    "# 1. データの読み込み\n",
    "df = pd.read_csv(\"./data/inbound_consumption_2024.csv\")\n",
    "df = df.dropna()   # その他の行を削除\n",
    "\n",
    "# 2. 最小値と最大値を利用してグラデーションの範囲を決める。\n",
    "# 下限：最小値x0.9\n",
    "# 上限：最大値x1.1\n",
    "margin = 0.1\n",
    "min_value = df[\"消費単価\"].min()*(1-margin)\n",
    "max_value = df[\"消費単価\"].max()*(1+margin)\n",
    "\n",
    "# 2. 地図表示\n",
    "fig = px.choropleth(df, \n",
    "                    locations=\"コード\",\n",
    "                    color=\"消費単価\",\n",
    "                    hover_name=\"地域\",\n",
    "                    hover_data={\"消費単価\": \":,\",       # ツールチップの設定。カンマ区切り表示\n",
    "                                \"コード\": False},       # 「コード」は非表示\n",
    "                    range_color=[min_value, max_value], # 色の範囲を指定\n",
    "                    color_continuous_scale=\"Rainbow\")    # グラデーションの色指定\n",
    "\n",
    "# 3. 地図の基本設定\n",
    "fig.update_geos(projection_type=\"natural earth\",          # 図法\n",
    "                landcolor=\"rgba(255, 255, 255, 0.1)\",   # 地図の基本色\n",
    "                projection_rotation=dict(lat=0, lon=148), # 日本を中心に持ってくる\n",
    "                showcountries=True,                       # 国境描画\n",
    "                countrycolor=\"lightgray\",                 # 国境線の色。\n",
    "                countrywidth=0.3,                         # 国境線の太さ。デフォルト：0.5        \n",
    "                )\n",
    "\n",
    "# 4. レイアウトに関する設定\n",
    "fig.update_layout(dragmode=False,          # マウスの利用不可\n",
    "                  coloraxis_colorbar=dict(title=\"消費単価（円）\",\n",
    "                                          tickformat=\",.0f\"  # カンマ区切り整数\n",
    "                  ),\n",
    "                  width=800,\n",
    "                  height=550,\n",
    "                  title=\"2024年　訪日観光客の消費単価\")\n",
    "# 5. 表示\n",
    "fig.show()\n"
   ]
  },
  {
   "cell_type": "code",
   "execution_count": null,
   "id": "91ba6713",
   "metadata": {},
   "outputs": [],
   "source": []
  }
 ],
 "metadata": {
  "kernelspec": {
   "display_name": "pysal (3.12.3)",
   "language": "python",
   "name": "python3"
  },
  "language_info": {
   "codemirror_mode": {
    "name": "ipython",
    "version": 3
   },
   "file_extension": ".py",
   "mimetype": "text/x-python",
   "name": "python",
   "nbconvert_exporter": "python",
   "pygments_lexer": "ipython3",
   "version": "3.12.3"
  }
 },
 "nbformat": 4,
 "nbformat_minor": 5
}
