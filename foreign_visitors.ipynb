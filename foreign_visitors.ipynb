{
 "cells": [
  {
   "cell_type": "markdown",
   "id": "460703fe",
   "metadata": {},
   "source": [
    "## 2024年 訪日外客数　地域別人数の可視化\n",
    "\n",
    "## データについて\n",
    "利用するデータのファイルは２種類\n",
    "1. foreign_visitors_2024.csv: 訪日外客数\n",
    "1. inbound_consumption_2024.csv: 消費単価\n",
    "\n",
    "### 訪日外客数\n",
    "* 出典：日本政府観光局「JNTO日本の観光統計データ」国籍/目的別 訪日外客数（2004年～2024年）（PDF）\n",
    "* URL: https://www.jnto.go.jp/statistics/data/visitors-statistics/\n",
    "* JNTOから外客数データを取得　時系列推移表　国籍/月別 訪日外客数（2004年～2024年）（PDF）からファイルを取得。2024年の観光客などの人数を抽出・加工しました。\n",
    "\n",
    "\n",
    "### 消費単価\n",
    "* 出典：「インバウンド消費動向調査（旧 訪日外国人消費動向調査）」（観光庁）\n",
    "* 「インバウンド消費動向調査（旧 訪日外国人消費動向調査）『2024年年間集計表』」（観光庁）(https://www.mlit.go.jp/kankocho/tokei_hakusyo/gaikokujinshohidoko.html)から抜粋\n",
    "* 「居住地（21区分）別　費目別購入率および購入者単価」を加工して作成\n",
    "\n",
    "### 国・地域コード\n",
    "* ISO3コードを利用する。\n",
    "* [wiki iso3-code](https://ja.wikipedia.org/wiki/ISO_3166-1)を参考に国・地域名に対応するコードを追記してあります。"
   ]
  },
  {
   "cell_type": "code",
   "execution_count": 2,
   "id": "07184be6",
   "metadata": {},
   "outputs": [],
   "source": [
    "import plotly.express as px\n",
    "import pandas as pd"
   ]
  },
  {
   "cell_type": "code",
   "execution_count": 6,
   "id": "ae96aa2a",
   "metadata": {},
   "outputs": [],
   "source": [
    "## 訪日外客数の表示"
   ]
  },
  {
   "cell_type": "code",
   "execution_count": 4,
   "id": "e2e9159c",
   "metadata": {},
   "outputs": [
    {
     "data": {
      "text/html": [
       "<div>\n",
       "<style scoped>\n",
       "    .dataframe tbody tr th:only-of-type {\n",
       "        vertical-align: middle;\n",
       "    }\n",
       "\n",
       "    .dataframe tbody tr th {\n",
       "        vertical-align: top;\n",
       "    }\n",
       "\n",
       "    .dataframe thead th {\n",
       "        text-align: right;\n",
       "    }\n",
       "</style>\n",
       "<table border=\"1\" class=\"dataframe\">\n",
       "  <thead>\n",
       "    <tr style=\"text-align: right;\">\n",
       "      <th></th>\n",
       "      <th>地域</th>\n",
       "      <th>人数</th>\n",
       "      <th>観光客</th>\n",
       "      <th>商用客</th>\n",
       "      <th>その他客</th>\n",
       "      <th>コード</th>\n",
       "    </tr>\n",
       "  </thead>\n",
       "  <tbody>\n",
       "    <tr>\n",
       "      <th>0</th>\n",
       "      <td>韓国</td>\n",
       "      <td>8817765</td>\n",
       "      <td>8452682</td>\n",
       "      <td>185779</td>\n",
       "      <td>179304</td>\n",
       "      <td>KOR</td>\n",
       "    </tr>\n",
       "    <tr>\n",
       "      <th>1</th>\n",
       "      <td>中国</td>\n",
       "      <td>6981342</td>\n",
       "      <td>6064115</td>\n",
       "      <td>277983</td>\n",
       "      <td>639244</td>\n",
       "      <td>CHN</td>\n",
       "    </tr>\n",
       "    <tr>\n",
       "      <th>2</th>\n",
       "      <td>台湾</td>\n",
       "      <td>6044316</td>\n",
       "      <td>5867101</td>\n",
       "      <td>93017</td>\n",
       "      <td>84198</td>\n",
       "      <td>TWN</td>\n",
       "    </tr>\n",
       "    <tr>\n",
       "      <th>3</th>\n",
       "      <td>香港</td>\n",
       "      <td>2683391</td>\n",
       "      <td>2637761</td>\n",
       "      <td>23549</td>\n",
       "      <td>22081</td>\n",
       "      <td>HKG</td>\n",
       "    </tr>\n",
       "    <tr>\n",
       "      <th>4</th>\n",
       "      <td>タイ</td>\n",
       "      <td>1148848</td>\n",
       "      <td>1092472</td>\n",
       "      <td>25658</td>\n",
       "      <td>30718</td>\n",
       "      <td>THA</td>\n",
       "    </tr>\n",
       "    <tr>\n",
       "      <th>5</th>\n",
       "      <td>シンガポール</td>\n",
       "      <td>691226</td>\n",
       "      <td>662890</td>\n",
       "      <td>23334</td>\n",
       "      <td>5002</td>\n",
       "      <td>SGP</td>\n",
       "    </tr>\n",
       "    <tr>\n",
       "      <th>6</th>\n",
       "      <td>マレーシア</td>\n",
       "      <td>506883</td>\n",
       "      <td>477923</td>\n",
       "      <td>15718</td>\n",
       "      <td>13242</td>\n",
       "      <td>MYS</td>\n",
       "    </tr>\n",
       "    <tr>\n",
       "      <th>7</th>\n",
       "      <td>インドネシア</td>\n",
       "      <td>517651</td>\n",
       "      <td>398949</td>\n",
       "      <td>15452</td>\n",
       "      <td>103250</td>\n",
       "      <td>IDN</td>\n",
       "    </tr>\n",
       "    <tr>\n",
       "      <th>8</th>\n",
       "      <td>フィリピン</td>\n",
       "      <td>818659</td>\n",
       "      <td>688452</td>\n",
       "      <td>61237</td>\n",
       "      <td>68970</td>\n",
       "      <td>PHL</td>\n",
       "    </tr>\n",
       "    <tr>\n",
       "      <th>9</th>\n",
       "      <td>ベトナム</td>\n",
       "      <td>621173</td>\n",
       "      <td>193117</td>\n",
       "      <td>36066</td>\n",
       "      <td>391990</td>\n",
       "      <td>VNM</td>\n",
       "    </tr>\n",
       "    <tr>\n",
       "      <th>10</th>\n",
       "      <td>インド</td>\n",
       "      <td>233061</td>\n",
       "      <td>140076</td>\n",
       "      <td>49289</td>\n",
       "      <td>43696</td>\n",
       "      <td>IND</td>\n",
       "    </tr>\n",
       "    <tr>\n",
       "      <th>11</th>\n",
       "      <td>イスラエル</td>\n",
       "      <td>59499</td>\n",
       "      <td>54997</td>\n",
       "      <td>3500</td>\n",
       "      <td>1002</td>\n",
       "      <td>ISR</td>\n",
       "    </tr>\n",
       "    <tr>\n",
       "      <th>12</th>\n",
       "      <td>トルコ</td>\n",
       "      <td>62099</td>\n",
       "      <td>55865</td>\n",
       "      <td>3566</td>\n",
       "      <td>2668</td>\n",
       "      <td>TUR</td>\n",
       "    </tr>\n",
       "    <tr>\n",
       "      <th>13</th>\n",
       "      <td>マカオ</td>\n",
       "      <td>123779</td>\n",
       "      <td>122165</td>\n",
       "      <td>526</td>\n",
       "      <td>1088</td>\n",
       "      <td>MAC</td>\n",
       "    </tr>\n",
       "    <tr>\n",
       "      <th>14</th>\n",
       "      <td>モンゴル</td>\n",
       "      <td>53049</td>\n",
       "      <td>29645</td>\n",
       "      <td>8128</td>\n",
       "      <td>15276</td>\n",
       "      <td>MNG</td>\n",
       "    </tr>\n",
       "    <tr>\n",
       "      <th>15</th>\n",
       "      <td>英国</td>\n",
       "      <td>437230</td>\n",
       "      <td>387205</td>\n",
       "      <td>30251</td>\n",
       "      <td>19774</td>\n",
       "      <td>GBR</td>\n",
       "    </tr>\n",
       "    <tr>\n",
       "      <th>16</th>\n",
       "      <td>フランス</td>\n",
       "      <td>385071</td>\n",
       "      <td>342207</td>\n",
       "      <td>22897</td>\n",
       "      <td>19967</td>\n",
       "      <td>FRA</td>\n",
       "    </tr>\n",
       "    <tr>\n",
       "      <th>17</th>\n",
       "      <td>ドイツ</td>\n",
       "      <td>325870</td>\n",
       "      <td>283427</td>\n",
       "      <td>29965</td>\n",
       "      <td>12478</td>\n",
       "      <td>DEU</td>\n",
       "    </tr>\n",
       "    <tr>\n",
       "      <th>18</th>\n",
       "      <td>イタリア</td>\n",
       "      <td>229785</td>\n",
       "      <td>208973</td>\n",
       "      <td>13760</td>\n",
       "      <td>7052</td>\n",
       "      <td>ITA</td>\n",
       "    </tr>\n",
       "    <tr>\n",
       "      <th>19</th>\n",
       "      <td>スペイン</td>\n",
       "      <td>182284</td>\n",
       "      <td>171175</td>\n",
       "      <td>5944</td>\n",
       "      <td>5165</td>\n",
       "      <td>ESP</td>\n",
       "    </tr>\n",
       "    <tr>\n",
       "      <th>20</th>\n",
       "      <td>ロシア</td>\n",
       "      <td>99264</td>\n",
       "      <td>85338</td>\n",
       "      <td>7454</td>\n",
       "      <td>6472</td>\n",
       "      <td>RUS</td>\n",
       "    </tr>\n",
       "    <tr>\n",
       "      <th>21</th>\n",
       "      <td>スウェーデン</td>\n",
       "      <td>52099</td>\n",
       "      <td>45831</td>\n",
       "      <td>3826</td>\n",
       "      <td>2442</td>\n",
       "      <td>SWE</td>\n",
       "    </tr>\n",
       "    <tr>\n",
       "      <th>22</th>\n",
       "      <td>フィンランド</td>\n",
       "      <td>28780</td>\n",
       "      <td>25034</td>\n",
       "      <td>2375</td>\n",
       "      <td>1371</td>\n",
       "      <td>DNK</td>\n",
       "    </tr>\n",
       "    <tr>\n",
       "      <th>23</th>\n",
       "      <td>デンマーク</td>\n",
       "      <td>40950</td>\n",
       "      <td>36606</td>\n",
       "      <td>2805</td>\n",
       "      <td>1539</td>\n",
       "      <td>NOR</td>\n",
       "    </tr>\n",
       "    <tr>\n",
       "      <th>24</th>\n",
       "      <td>ノルウェー</td>\n",
       "      <td>28901</td>\n",
       "      <td>26027</td>\n",
       "      <td>1834</td>\n",
       "      <td>1040</td>\n",
       "      <td>FIN</td>\n",
       "    </tr>\n",
       "    <tr>\n",
       "      <th>25</th>\n",
       "      <td>オランダ</td>\n",
       "      <td>102981</td>\n",
       "      <td>93008</td>\n",
       "      <td>7098</td>\n",
       "      <td>2875</td>\n",
       "      <td>NLD</td>\n",
       "    </tr>\n",
       "    <tr>\n",
       "      <th>26</th>\n",
       "      <td>スイス</td>\n",
       "      <td>72193</td>\n",
       "      <td>66281</td>\n",
       "      <td>4192</td>\n",
       "      <td>1720</td>\n",
       "      <td>CHE</td>\n",
       "    </tr>\n",
       "    <tr>\n",
       "      <th>27</th>\n",
       "      <td>ベルギー</td>\n",
       "      <td>47063</td>\n",
       "      <td>42139</td>\n",
       "      <td>3328</td>\n",
       "      <td>1596</td>\n",
       "      <td>BEL</td>\n",
       "    </tr>\n",
       "    <tr>\n",
       "      <th>28</th>\n",
       "      <td>ポーランド</td>\n",
       "      <td>63828</td>\n",
       "      <td>58293</td>\n",
       "      <td>3504</td>\n",
       "      <td>2031</td>\n",
       "      <td>POL</td>\n",
       "    </tr>\n",
       "    <tr>\n",
       "      <th>29</th>\n",
       "      <td>オーストリア</td>\n",
       "      <td>36820</td>\n",
       "      <td>32253</td>\n",
       "      <td>3051</td>\n",
       "      <td>1516</td>\n",
       "      <td>AUT</td>\n",
       "    </tr>\n",
       "    <tr>\n",
       "      <th>30</th>\n",
       "      <td>ポルトガル</td>\n",
       "      <td>42300</td>\n",
       "      <td>39679</td>\n",
       "      <td>1522</td>\n",
       "      <td>1099</td>\n",
       "      <td>PRT</td>\n",
       "    </tr>\n",
       "    <tr>\n",
       "      <th>31</th>\n",
       "      <td>アイルランド</td>\n",
       "      <td>32995</td>\n",
       "      <td>28935</td>\n",
       "      <td>2452</td>\n",
       "      <td>1608</td>\n",
       "      <td>IRL</td>\n",
       "    </tr>\n",
       "    <tr>\n",
       "      <th>32</th>\n",
       "      <td>米国</td>\n",
       "      <td>2724594</td>\n",
       "      <td>2537002</td>\n",
       "      <td>123526</td>\n",
       "      <td>64066</td>\n",
       "      <td>USA</td>\n",
       "    </tr>\n",
       "    <tr>\n",
       "      <th>33</th>\n",
       "      <td>カナダ</td>\n",
       "      <td>579445</td>\n",
       "      <td>557338</td>\n",
       "      <td>11576</td>\n",
       "      <td>10531</td>\n",
       "      <td>CAN</td>\n",
       "    </tr>\n",
       "    <tr>\n",
       "      <th>34</th>\n",
       "      <td>メキシコ</td>\n",
       "      <td>151835</td>\n",
       "      <td>145687</td>\n",
       "      <td>3215</td>\n",
       "      <td>2933</td>\n",
       "      <td>MEX</td>\n",
       "    </tr>\n",
       "    <tr>\n",
       "      <th>35</th>\n",
       "      <td>ブラジル</td>\n",
       "      <td>85609</td>\n",
       "      <td>77830</td>\n",
       "      <td>3434</td>\n",
       "      <td>4345</td>\n",
       "      <td>BRA</td>\n",
       "    </tr>\n",
       "    <tr>\n",
       "      <th>36</th>\n",
       "      <td>豪州</td>\n",
       "      <td>920196</td>\n",
       "      <td>885303</td>\n",
       "      <td>21645</td>\n",
       "      <td>13248</td>\n",
       "      <td>AUS</td>\n",
       "    </tr>\n",
       "    <tr>\n",
       "      <th>37</th>\n",
       "      <td>ニュージーランド</td>\n",
       "      <td>115012</td>\n",
       "      <td>107517</td>\n",
       "      <td>3777</td>\n",
       "      <td>3718</td>\n",
       "      <td>NZL</td>\n",
       "    </tr>\n",
       "  </tbody>\n",
       "</table>\n",
       "</div>"
      ],
      "text/plain": [
       "          地域       人数      観光客     商用客    その他客  コード\n",
       "0         韓国  8817765  8452682  185779  179304  KOR\n",
       "1         中国  6981342  6064115  277983  639244  CHN\n",
       "2         台湾  6044316  5867101   93017   84198  TWN\n",
       "3         香港  2683391  2637761   23549   22081  HKG\n",
       "4         タイ  1148848  1092472   25658   30718  THA\n",
       "5     シンガポール   691226   662890   23334    5002  SGP\n",
       "6      マレーシア   506883   477923   15718   13242  MYS\n",
       "7     インドネシア   517651   398949   15452  103250  IDN\n",
       "8      フィリピン   818659   688452   61237   68970  PHL\n",
       "9       ベトナム   621173   193117   36066  391990  VNM\n",
       "10       インド   233061   140076   49289   43696  IND\n",
       "11     イスラエル    59499    54997    3500    1002  ISR\n",
       "12       トルコ    62099    55865    3566    2668  TUR\n",
       "13       マカオ   123779   122165     526    1088  MAC\n",
       "14      モンゴル    53049    29645    8128   15276  MNG\n",
       "15        英国   437230   387205   30251   19774  GBR\n",
       "16      フランス   385071   342207   22897   19967  FRA\n",
       "17       ドイツ   325870   283427   29965   12478  DEU\n",
       "18      イタリア   229785   208973   13760    7052  ITA\n",
       "19      スペイン   182284   171175    5944    5165  ESP\n",
       "20       ロシア    99264    85338    7454    6472  RUS\n",
       "21    スウェーデン    52099    45831    3826    2442  SWE\n",
       "22    フィンランド    28780    25034    2375    1371  DNK\n",
       "23     デンマーク    40950    36606    2805    1539  NOR\n",
       "24     ノルウェー    28901    26027    1834    1040  FIN\n",
       "25      オランダ   102981    93008    7098    2875  NLD\n",
       "26       スイス    72193    66281    4192    1720  CHE\n",
       "27      ベルギー    47063    42139    3328    1596  BEL\n",
       "28     ポーランド    63828    58293    3504    2031  POL\n",
       "29    オーストリア    36820    32253    3051    1516  AUT\n",
       "30     ポルトガル    42300    39679    1522    1099  PRT\n",
       "31    アイルランド    32995    28935    2452    1608  IRL\n",
       "32        米国  2724594  2537002  123526   64066  USA\n",
       "33       カナダ   579445   557338   11576   10531  CAN\n",
       "34      メキシコ   151835   145687    3215    2933  MEX\n",
       "35      ブラジル    85609    77830    3434    4345  BRA\n",
       "36        豪州   920196   885303   21645   13248  AUS\n",
       "37  ニュージーランド   115012   107517    3777    3718  NZL"
      ]
     },
     "execution_count": 4,
     "metadata": {},
     "output_type": "execute_result"
    }
   ],
   "source": [
    "df = pd.read_csv(\"./data/foreign_visitors_2024.csv\")\n",
    "df = df.dropna()   # その他の行を削除\n",
    "df"
   ]
  },
  {
   "cell_type": "markdown",
   "id": "0b97029a",
   "metadata": {},
   "source": [
    "### コロプレスマップ 人数で表示\n",
    "* 国・地域コードを利用して訪日観光客の居住地を塗り分ける\n",
    "* データセットのコード列で塗り分け\n",
    "* 人数列をrange_colorの幅でグラデーション\n",
    "* projection_type = robinson を使用。他　natural earthも良い"
   ]
  },
  {
   "cell_type": "code",
   "execution_count": 5,
   "id": "ea00f806",
   "metadata": {},
   "outputs": [
    {
     "data": {
      "application/vnd.plotly.v1+json": {
       "config": {
        "plotlyServerURL": "https://plot.ly"
       },
       "data": [
        {
         "coloraxis": "coloraxis",
         "customdata": [
          [
           8452682,
           "KOR"
          ],
          [
           6064115,
           "CHN"
          ],
          [
           5867101,
           "TWN"
          ],
          [
           2637761,
           "HKG"
          ],
          [
           1092472,
           "THA"
          ],
          [
           662890,
           "SGP"
          ],
          [
           477923,
           "MYS"
          ],
          [
           398949,
           "IDN"
          ],
          [
           688452,
           "PHL"
          ],
          [
           193117,
           "VNM"
          ],
          [
           140076,
           "IND"
          ],
          [
           54997,
           "ISR"
          ],
          [
           55865,
           "TUR"
          ],
          [
           122165,
           "MAC"
          ],
          [
           29645,
           "MNG"
          ],
          [
           387205,
           "GBR"
          ],
          [
           342207,
           "FRA"
          ],
          [
           283427,
           "DEU"
          ],
          [
           208973,
           "ITA"
          ],
          [
           171175,
           "ESP"
          ],
          [
           85338,
           "RUS"
          ],
          [
           45831,
           "SWE"
          ],
          [
           25034,
           "DNK"
          ],
          [
           36606,
           "NOR"
          ],
          [
           26027,
           "FIN"
          ],
          [
           93008,
           "NLD"
          ],
          [
           66281,
           "CHE"
          ],
          [
           42139,
           "BEL"
          ],
          [
           58293,
           "POL"
          ],
          [
           32253,
           "AUT"
          ],
          [
           39679,
           "PRT"
          ],
          [
           28935,
           "IRL"
          ],
          [
           2537002,
           "USA"
          ],
          [
           557338,
           "CAN"
          ],
          [
           145687,
           "MEX"
          ],
          [
           77830,
           "BRA"
          ],
          [
           885303,
           "AUS"
          ],
          [
           107517,
           "NZL"
          ]
         ],
         "geo": "geo",
         "hovertemplate": "<b>%{hovertext}</b><br><br>観光客=%{z:,}<extra></extra>",
         "hovertext": [
          "韓国",
          "中国",
          "台湾",
          "香港",
          "タイ",
          "シンガポール",
          "マレーシア",
          "インドネシア",
          "フィリピン",
          "ベトナム",
          "インド",
          "イスラエル",
          "トルコ",
          "マカオ",
          "モンゴル",
          "英国",
          "フランス",
          "ドイツ",
          "イタリア",
          "スペイン",
          "ロシア",
          "スウェーデン",
          "フィンランド",
          "デンマーク",
          "ノルウェー",
          "オランダ",
          "スイス",
          "ベルギー",
          "ポーランド",
          "オーストリア",
          "ポルトガル",
          "アイルランド",
          "米国",
          "カナダ",
          "メキシコ",
          "ブラジル",
          "豪州",
          "ニュージーランド"
         ],
         "locations": [
          "KOR",
          "CHN",
          "TWN",
          "HKG",
          "THA",
          "SGP",
          "MYS",
          "IDN",
          "PHL",
          "VNM",
          "IND",
          "ISR",
          "TUR",
          "MAC",
          "MNG",
          "GBR",
          "FRA",
          "DEU",
          "ITA",
          "ESP",
          "RUS",
          "SWE",
          "DNK",
          "NOR",
          "FIN",
          "NLD",
          "CHE",
          "BEL",
          "POL",
          "AUT",
          "PRT",
          "IRL",
          "USA",
          "CAN",
          "MEX",
          "BRA",
          "AUS",
          "NZL"
         ],
         "name": "",
         "type": "choropleth",
         "z": {
          "bdata": "SvqAAPOHXABdhlkAwT8oAHirEABqHQoA40oHAGUWBgBEgQoAXfICACwjAgDV1gAAOdoAADXdAQDNcwAAhegFAL84BQAjUwQATTADAKecAgBaTQEAB7MAAMphAAD+jgAAq2UAAFBrAQDpAgEAm6QAALXjAAD9fQAA/5oAAAdxAAAqtiYAGoEIABc5AgAGMAEAN4INAP2jAQA=",
          "dtype": "i4"
         }
        }
       ],
       "layout": {
        "coloraxis": {
         "cmax": 9297950.200000001,
         "cmin": 22530.600000000002,
         "colorbar": {
          "title": {
           "text": "観光客"
          }
         },
         "colorscale": [
          [
           0,
           "rgb(150,0,90)"
          ],
          [
           0.125,
           "rgb(0,0,200)"
          ],
          [
           0.25,
           "rgb(0,25,255)"
          ],
          [
           0.375,
           "rgb(0,152,255)"
          ],
          [
           0.5,
           "rgb(44,255,150)"
          ],
          [
           0.625,
           "rgb(151,255,0)"
          ],
          [
           0.75,
           "rgb(255,234,0)"
          ],
          [
           0.875,
           "rgb(255,111,0)"
          ],
          [
           1,
           "rgb(255,0,0)"
          ]
         ]
        },
        "dragmode": false,
        "geo": {
         "center": {},
         "countrycolor": "lightgray",
         "countrywidth": 0.3,
         "domain": {
          "x": [
           0,
           1
          ],
          "y": [
           0,
           1
          ]
         },
         "landcolor": "rgb(255, 255, 255)",
         "projection": {
          "rotation": {
           "lat": 0,
           "lon": 148
          },
          "type": "robinson"
         },
         "showcountries": true
        },
        "height": 550,
        "legend": {
         "tracegroupgap": 0
        },
        "margin": {
         "t": 60
        },
        "template": {
         "data": {
          "bar": [
           {
            "error_x": {
             "color": "#2a3f5f"
            },
            "error_y": {
             "color": "#2a3f5f"
            },
            "marker": {
             "line": {
              "color": "#E5ECF6",
              "width": 0.5
             },
             "pattern": {
              "fillmode": "overlay",
              "size": 10,
              "solidity": 0.2
             }
            },
            "type": "bar"
           }
          ],
          "barpolar": [
           {
            "marker": {
             "line": {
              "color": "#E5ECF6",
              "width": 0.5
             },
             "pattern": {
              "fillmode": "overlay",
              "size": 10,
              "solidity": 0.2
             }
            },
            "type": "barpolar"
           }
          ],
          "carpet": [
           {
            "aaxis": {
             "endlinecolor": "#2a3f5f",
             "gridcolor": "white",
             "linecolor": "white",
             "minorgridcolor": "white",
             "startlinecolor": "#2a3f5f"
            },
            "baxis": {
             "endlinecolor": "#2a3f5f",
             "gridcolor": "white",
             "linecolor": "white",
             "minorgridcolor": "white",
             "startlinecolor": "#2a3f5f"
            },
            "type": "carpet"
           }
          ],
          "choropleth": [
           {
            "colorbar": {
             "outlinewidth": 0,
             "ticks": ""
            },
            "type": "choropleth"
           }
          ],
          "contour": [
           {
            "colorbar": {
             "outlinewidth": 0,
             "ticks": ""
            },
            "colorscale": [
             [
              0,
              "#0d0887"
             ],
             [
              0.1111111111111111,
              "#46039f"
             ],
             [
              0.2222222222222222,
              "#7201a8"
             ],
             [
              0.3333333333333333,
              "#9c179e"
             ],
             [
              0.4444444444444444,
              "#bd3786"
             ],
             [
              0.5555555555555556,
              "#d8576b"
             ],
             [
              0.6666666666666666,
              "#ed7953"
             ],
             [
              0.7777777777777778,
              "#fb9f3a"
             ],
             [
              0.8888888888888888,
              "#fdca26"
             ],
             [
              1,
              "#f0f921"
             ]
            ],
            "type": "contour"
           }
          ],
          "contourcarpet": [
           {
            "colorbar": {
             "outlinewidth": 0,
             "ticks": ""
            },
            "type": "contourcarpet"
           }
          ],
          "heatmap": [
           {
            "colorbar": {
             "outlinewidth": 0,
             "ticks": ""
            },
            "colorscale": [
             [
              0,
              "#0d0887"
             ],
             [
              0.1111111111111111,
              "#46039f"
             ],
             [
              0.2222222222222222,
              "#7201a8"
             ],
             [
              0.3333333333333333,
              "#9c179e"
             ],
             [
              0.4444444444444444,
              "#bd3786"
             ],
             [
              0.5555555555555556,
              "#d8576b"
             ],
             [
              0.6666666666666666,
              "#ed7953"
             ],
             [
              0.7777777777777778,
              "#fb9f3a"
             ],
             [
              0.8888888888888888,
              "#fdca26"
             ],
             [
              1,
              "#f0f921"
             ]
            ],
            "type": "heatmap"
           }
          ],
          "histogram": [
           {
            "marker": {
             "pattern": {
              "fillmode": "overlay",
              "size": 10,
              "solidity": 0.2
             }
            },
            "type": "histogram"
           }
          ],
          "histogram2d": [
           {
            "colorbar": {
             "outlinewidth": 0,
             "ticks": ""
            },
            "colorscale": [
             [
              0,
              "#0d0887"
             ],
             [
              0.1111111111111111,
              "#46039f"
             ],
             [
              0.2222222222222222,
              "#7201a8"
             ],
             [
              0.3333333333333333,
              "#9c179e"
             ],
             [
              0.4444444444444444,
              "#bd3786"
             ],
             [
              0.5555555555555556,
              "#d8576b"
             ],
             [
              0.6666666666666666,
              "#ed7953"
             ],
             [
              0.7777777777777778,
              "#fb9f3a"
             ],
             [
              0.8888888888888888,
              "#fdca26"
             ],
             [
              1,
              "#f0f921"
             ]
            ],
            "type": "histogram2d"
           }
          ],
          "histogram2dcontour": [
           {
            "colorbar": {
             "outlinewidth": 0,
             "ticks": ""
            },
            "colorscale": [
             [
              0,
              "#0d0887"
             ],
             [
              0.1111111111111111,
              "#46039f"
             ],
             [
              0.2222222222222222,
              "#7201a8"
             ],
             [
              0.3333333333333333,
              "#9c179e"
             ],
             [
              0.4444444444444444,
              "#bd3786"
             ],
             [
              0.5555555555555556,
              "#d8576b"
             ],
             [
              0.6666666666666666,
              "#ed7953"
             ],
             [
              0.7777777777777778,
              "#fb9f3a"
             ],
             [
              0.8888888888888888,
              "#fdca26"
             ],
             [
              1,
              "#f0f921"
             ]
            ],
            "type": "histogram2dcontour"
           }
          ],
          "mesh3d": [
           {
            "colorbar": {
             "outlinewidth": 0,
             "ticks": ""
            },
            "type": "mesh3d"
           }
          ],
          "parcoords": [
           {
            "line": {
             "colorbar": {
              "outlinewidth": 0,
              "ticks": ""
             }
            },
            "type": "parcoords"
           }
          ],
          "pie": [
           {
            "automargin": true,
            "type": "pie"
           }
          ],
          "scatter": [
           {
            "fillpattern": {
             "fillmode": "overlay",
             "size": 10,
             "solidity": 0.2
            },
            "type": "scatter"
           }
          ],
          "scatter3d": [
           {
            "line": {
             "colorbar": {
              "outlinewidth": 0,
              "ticks": ""
             }
            },
            "marker": {
             "colorbar": {
              "outlinewidth": 0,
              "ticks": ""
             }
            },
            "type": "scatter3d"
           }
          ],
          "scattercarpet": [
           {
            "marker": {
             "colorbar": {
              "outlinewidth": 0,
              "ticks": ""
             }
            },
            "type": "scattercarpet"
           }
          ],
          "scattergeo": [
           {
            "marker": {
             "colorbar": {
              "outlinewidth": 0,
              "ticks": ""
             }
            },
            "type": "scattergeo"
           }
          ],
          "scattergl": [
           {
            "marker": {
             "colorbar": {
              "outlinewidth": 0,
              "ticks": ""
             }
            },
            "type": "scattergl"
           }
          ],
          "scattermap": [
           {
            "marker": {
             "colorbar": {
              "outlinewidth": 0,
              "ticks": ""
             }
            },
            "type": "scattermap"
           }
          ],
          "scattermapbox": [
           {
            "marker": {
             "colorbar": {
              "outlinewidth": 0,
              "ticks": ""
             }
            },
            "type": "scattermapbox"
           }
          ],
          "scatterpolar": [
           {
            "marker": {
             "colorbar": {
              "outlinewidth": 0,
              "ticks": ""
             }
            },
            "type": "scatterpolar"
           }
          ],
          "scatterpolargl": [
           {
            "marker": {
             "colorbar": {
              "outlinewidth": 0,
              "ticks": ""
             }
            },
            "type": "scatterpolargl"
           }
          ],
          "scatterternary": [
           {
            "marker": {
             "colorbar": {
              "outlinewidth": 0,
              "ticks": ""
             }
            },
            "type": "scatterternary"
           }
          ],
          "surface": [
           {
            "colorbar": {
             "outlinewidth": 0,
             "ticks": ""
            },
            "colorscale": [
             [
              0,
              "#0d0887"
             ],
             [
              0.1111111111111111,
              "#46039f"
             ],
             [
              0.2222222222222222,
              "#7201a8"
             ],
             [
              0.3333333333333333,
              "#9c179e"
             ],
             [
              0.4444444444444444,
              "#bd3786"
             ],
             [
              0.5555555555555556,
              "#d8576b"
             ],
             [
              0.6666666666666666,
              "#ed7953"
             ],
             [
              0.7777777777777778,
              "#fb9f3a"
             ],
             [
              0.8888888888888888,
              "#fdca26"
             ],
             [
              1,
              "#f0f921"
             ]
            ],
            "type": "surface"
           }
          ],
          "table": [
           {
            "cells": {
             "fill": {
              "color": "#EBF0F8"
             },
             "line": {
              "color": "white"
             }
            },
            "header": {
             "fill": {
              "color": "#C8D4E3"
             },
             "line": {
              "color": "white"
             }
            },
            "type": "table"
           }
          ]
         },
         "layout": {
          "annotationdefaults": {
           "arrowcolor": "#2a3f5f",
           "arrowhead": 0,
           "arrowwidth": 1
          },
          "autotypenumbers": "strict",
          "coloraxis": {
           "colorbar": {
            "outlinewidth": 0,
            "ticks": ""
           }
          },
          "colorscale": {
           "diverging": [
            [
             0,
             "#8e0152"
            ],
            [
             0.1,
             "#c51b7d"
            ],
            [
             0.2,
             "#de77ae"
            ],
            [
             0.3,
             "#f1b6da"
            ],
            [
             0.4,
             "#fde0ef"
            ],
            [
             0.5,
             "#f7f7f7"
            ],
            [
             0.6,
             "#e6f5d0"
            ],
            [
             0.7,
             "#b8e186"
            ],
            [
             0.8,
             "#7fbc41"
            ],
            [
             0.9,
             "#4d9221"
            ],
            [
             1,
             "#276419"
            ]
           ],
           "sequential": [
            [
             0,
             "#0d0887"
            ],
            [
             0.1111111111111111,
             "#46039f"
            ],
            [
             0.2222222222222222,
             "#7201a8"
            ],
            [
             0.3333333333333333,
             "#9c179e"
            ],
            [
             0.4444444444444444,
             "#bd3786"
            ],
            [
             0.5555555555555556,
             "#d8576b"
            ],
            [
             0.6666666666666666,
             "#ed7953"
            ],
            [
             0.7777777777777778,
             "#fb9f3a"
            ],
            [
             0.8888888888888888,
             "#fdca26"
            ],
            [
             1,
             "#f0f921"
            ]
           ],
           "sequentialminus": [
            [
             0,
             "#0d0887"
            ],
            [
             0.1111111111111111,
             "#46039f"
            ],
            [
             0.2222222222222222,
             "#7201a8"
            ],
            [
             0.3333333333333333,
             "#9c179e"
            ],
            [
             0.4444444444444444,
             "#bd3786"
            ],
            [
             0.5555555555555556,
             "#d8576b"
            ],
            [
             0.6666666666666666,
             "#ed7953"
            ],
            [
             0.7777777777777778,
             "#fb9f3a"
            ],
            [
             0.8888888888888888,
             "#fdca26"
            ],
            [
             1,
             "#f0f921"
            ]
           ]
          },
          "colorway": [
           "#636efa",
           "#EF553B",
           "#00cc96",
           "#ab63fa",
           "#FFA15A",
           "#19d3f3",
           "#FF6692",
           "#B6E880",
           "#FF97FF",
           "#FECB52"
          ],
          "font": {
           "color": "#2a3f5f"
          },
          "geo": {
           "bgcolor": "white",
           "lakecolor": "white",
           "landcolor": "#E5ECF6",
           "showlakes": true,
           "showland": true,
           "subunitcolor": "white"
          },
          "hoverlabel": {
           "align": "left"
          },
          "hovermode": "closest",
          "mapbox": {
           "style": "light"
          },
          "paper_bgcolor": "white",
          "plot_bgcolor": "#E5ECF6",
          "polar": {
           "angularaxis": {
            "gridcolor": "white",
            "linecolor": "white",
            "ticks": ""
           },
           "bgcolor": "#E5ECF6",
           "radialaxis": {
            "gridcolor": "white",
            "linecolor": "white",
            "ticks": ""
           }
          },
          "scene": {
           "xaxis": {
            "backgroundcolor": "#E5ECF6",
            "gridcolor": "white",
            "gridwidth": 2,
            "linecolor": "white",
            "showbackground": true,
            "ticks": "",
            "zerolinecolor": "white"
           },
           "yaxis": {
            "backgroundcolor": "#E5ECF6",
            "gridcolor": "white",
            "gridwidth": 2,
            "linecolor": "white",
            "showbackground": true,
            "ticks": "",
            "zerolinecolor": "white"
           },
           "zaxis": {
            "backgroundcolor": "#E5ECF6",
            "gridcolor": "white",
            "gridwidth": 2,
            "linecolor": "white",
            "showbackground": true,
            "ticks": "",
            "zerolinecolor": "white"
           }
          },
          "shapedefaults": {
           "line": {
            "color": "#2a3f5f"
           }
          },
          "ternary": {
           "aaxis": {
            "gridcolor": "white",
            "linecolor": "white",
            "ticks": ""
           },
           "baxis": {
            "gridcolor": "white",
            "linecolor": "white",
            "ticks": ""
           },
           "bgcolor": "#E5ECF6",
           "caxis": {
            "gridcolor": "white",
            "linecolor": "white",
            "ticks": ""
           }
          },
          "title": {
           "x": 0.05
          },
          "xaxis": {
           "automargin": true,
           "gridcolor": "white",
           "linecolor": "white",
           "ticks": "",
           "title": {
            "standoff": 15
           },
           "zerolinecolor": "white",
           "zerolinewidth": 2
          },
          "yaxis": {
           "automargin": true,
           "gridcolor": "white",
           "linecolor": "white",
           "ticks": "",
           "title": {
            "standoff": 15
           },
           "zerolinecolor": "white",
           "zerolinewidth": 2
          }
         }
        },
        "title": {
         "text": "2024年 訪日観光客 地域別表示"
        },
        "width": 800
       }
      }
     },
     "metadata": {},
     "output_type": "display_data"
    }
   ],
   "source": [
    "# 2. 最小値と最大値を利用してグラデーションの範囲を決める。\n",
    "# 下限：最小値x0.9\n",
    "# 上限：最大値x1.1\n",
    "column_name = \"観光客\"\n",
    "margin = 0.1\n",
    "min_value = df[column_name].min()*(1-margin)\n",
    "max_value = df[column_name].max()*(1+margin)\n",
    "\n",
    "# 3. コロプレスマップ\n",
    "fig = px.choropleth(df, \n",
    "                    locations=\"コード\",\n",
    "                    color=column_name,\n",
    "                    hover_name=\"地域\",\n",
    "                    hover_data={column_name: \":,\", \"コード\": False}, # カンマ区切り表示、コードは非表示\n",
    "                    range_color=[min_value, max_value],              # 色の範囲を指定\n",
    "                    color_continuous_scale=\"Rainbow\")\n",
    "\n",
    "# 4. 地図の設定\n",
    "fig.update_geos(projection_type=\"robinson\",               # 図法。デフォルト：メルカトル図法\n",
    "                landcolor=\"rgb(255, 255, 255)\",           # 地図の基本色\n",
    "                projection_rotation=dict(lat=0, lon=148), # 日本を中心に持ってくる\n",
    "                showcountries=True,                       # 国境描画\n",
    "                countrycolor=\"lightgray\",                 # 国境線の色。デフォルトは黒っぽい色？\n",
    "                countrywidth=0.3,                         # 国境線の太さ。デフォルト：0.5        \n",
    "                )\n",
    "\n",
    "# 5. 地図のレイアウト設定\n",
    "fig.update_layout(dragmode=False,\n",
    "                  width=800,\n",
    "                  height=550,\n",
    "                  title=f\"2024年 訪日{column_name} 地域別表示\")\n",
    "\n",
    "# 6. 地図表示\n",
    "fig.show()\n"
   ]
  },
  {
   "cell_type": "code",
   "execution_count": null,
   "id": "0a809a8c",
   "metadata": {},
   "outputs": [],
   "source": []
  }
 ],
 "metadata": {
  "kernelspec": {
   "display_name": "pysal (3.12.3)",
   "language": "python",
   "name": "python3"
  },
  "language_info": {
   "codemirror_mode": {
    "name": "ipython",
    "version": 3
   },
   "file_extension": ".py",
   "mimetype": "text/x-python",
   "name": "python",
   "nbconvert_exporter": "python",
   "pygments_lexer": "ipython3",
   "version": "3.12.3"
  }
 },
 "nbformat": 4,
 "nbformat_minor": 5
}
